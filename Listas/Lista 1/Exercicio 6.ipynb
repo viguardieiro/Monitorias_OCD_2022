{
 "cells": [
  {
   "cell_type": "markdown",
   "metadata": {},
   "source": [
    "# Lista 1 - Exercício 6\n",
    "\n",
    "**Dada a equação não linear $f(x) = x\\text{exp}(x)+x^2 = 0$, responda a seguir.**"
   ]
  },
  {
   "cell_type": "markdown",
   "metadata": {},
   "source": [
    "**a. Escolha os extremos do intervalo em que existe uma raiz da função, e aplique o método da bisseção para encontrar uma raiz no intervalo escolhido. Use a tolerância de $\\epsilon = 0.001$.**"
   ]
  },
  {
   "cell_type": "markdown",
   "metadata": {},
   "source": [
    "Para utilizar o método da bisseção, precisamos encontrar extremos $a$ e $b$ tal que $f(a)f(b) < 0$, ou seja, $sign(f(a)) \\neq sign(f(b))$. Podemos determinar tais valores através de tentativa é erro.\n",
    "\n",
    "- Testando $x=0$, temos que $f(0)=0$, então zero não pode ser um extremo.\n",
    "- Testando $x=-1$, temos que $f(-1)= 0.63 > 0$.\n",
    "- Testando $x=-0.5$, temos que $f(-0.5) = -0.05 < 0$.\n",
    "\n",
    "Portanto, tomamos os extremos $a=-1$ e $b=0.5$."
   ]
  },
  {
   "cell_type": "markdown",
   "metadata": {},
   "source": [
    "Para implementar o método da bisseção, começamos definindo a função e os valores de $a, b$ e $\\epsilon$:"
   ]
  },
  {
   "cell_type": "code",
   "execution_count": 1,
   "metadata": {},
   "outputs": [
    {
     "name": "stdout",
     "output_type": "stream",
     "text": [
      "Avaliando a e b:\n",
      "f(a) = f(-1) = 0.632     |  sign(f(a)) = 1.0\n",
      "f(b) = f(-0.5) = -0.053  |  sign(f(b)) = -1.0\n"
     ]
    }
   ],
   "source": [
    "import numpy as np\n",
    "\n",
    "eps = 0.001\n",
    "a = -1\n",
    "b = -0.5\n",
    "\n",
    "def f(x):\n",
    "    return x*np.exp(x)+x**2\n",
    "\n",
    "print(\"Avaliando a e b:\")\n",
    "print(f\"f(a) = f({a}) = {f(a):.3f}     |  sign(f(a)) = {np.sign(f(a))}\")\n",
    "print(f\"f(b) = f({b}) = {f(b):.3f}  |  sign(f(b)) = {np.sign(f(b))}\")\n"
   ]
  },
  {
   "cell_type": "markdown",
   "metadata": {},
   "source": [
    "Agora definimos e executamos o método da bisseção:"
   ]
  },
  {
   "cell_type": "code",
   "execution_count": 2,
   "metadata": {},
   "outputs": [
    {
     "name": "stdout",
     "output_type": "stream",
     "text": [
      "Iteração 0:\n",
      "   a_0 = -1\n",
      "   b_0 = -0.5\n",
      "   x_0 = -0.75\n",
      "Iteração 1:\n",
      "   a_1 = -0.75\n",
      "   b_1 = -0.5\n",
      "   x_1 = -0.625\n",
      "Iteração 2:\n",
      "   a_2 = -0.625\n",
      "   b_2 = -0.5\n",
      "   x_2 = -0.5625\n",
      "Iteração 3:\n",
      "   a_3 = -0.625\n",
      "   b_3 = -0.5625\n",
      "   x_3 = -0.59375\n",
      "Iteração 4:\n",
      "   a_4 = -0.59375\n",
      "   b_4 = -0.5625\n",
      "   x_4 = -0.578125\n",
      "Iteração 5:\n",
      "   a_5 = -0.578125\n",
      "   b_5 = -0.5625\n",
      "   x_5 = -0.5703125\n",
      "Iteração 6:\n",
      "   a_6 = -0.5703125\n",
      "   b_6 = -0.5625\n",
      "   x_6 = -0.56640625\n",
      "Iteração 7:\n",
      "   a_7 = -0.5703125\n",
      "   b_7 = -0.56640625\n",
      "   x_7 = -0.568359375\n",
      "Iteração 8:\n",
      "   a_8 = -0.568359375\n",
      "   b_8 = -0.56640625\n",
      "   x_8 = -0.5673828125\n",
      "------------------------------\n",
      "Precisou de 9 iterações.\n",
      "Por fim, tivemos a_k=-0.5673828125, b_k=-0.56640625 e b_k-a_k=0.0009765625\n"
     ]
    }
   ],
   "source": [
    "def metodo_bissecao(f, a, b, eps, verbose=True):\n",
    "    k = 0\n",
    "    a_k = a\n",
    "    b_k = b\n",
    "\n",
    "    while b_k-a_k > eps:\n",
    "        x_k = (a_k+b_k)/2\n",
    "\n",
    "        if verbose:\n",
    "            print(f\"Iteração {k}:\")\n",
    "            print(f\"   a_{k} = {a_k}\")\n",
    "            print(f\"   b_{k} = {b_k}\")\n",
    "            print(f\"   x_{k} = {x_k}\")\n",
    "\n",
    "        if np.sign(f(a_k))==np.sign(f(x_k)):\n",
    "            a_k = x_k\n",
    "        else:\n",
    "            b_k = x_k\n",
    "\n",
    "        k = k+1\n",
    "\n",
    "    if verbose:\n",
    "        print(30*\"-\")\n",
    "        print(f\"Precisou de {k} iterações.\")\n",
    "        print(f\"Por fim, tivemos a_k={a_k}, b_k={b_k} e b_k-a_k={b_k-a_k}\")\n",
    "\n",
    "    return k, a_k, b_k, x_k\n",
    "\n",
    "k_bissecao, a_k, b_k, x_k_bissecao = metodo_bissecao(f, a, b, eps)\n"
   ]
  },
  {
   "cell_type": "markdown",
   "metadata": {},
   "source": [
    "**b. Resolva o problema de encontrar a raiz da função através da aplicação do método de Newton e do método da secante, partindo de $x^0 = -2$, e $x^0=-2$ e $x^1=2$, respectivamente. Para ambos os algoritmos use $\\epsilon = 0.001$.**"
   ]
  },
  {
   "cell_type": "markdown",
   "metadata": {},
   "source": [
    "Para o método de Newton, precisamos da derivada de $f(x)$, que é $f'(x) = 2x+\\text{exp}(x)(x+1)$. Definimos a derivada:"
   ]
  },
  {
   "cell_type": "code",
   "execution_count": 3,
   "metadata": {},
   "outputs": [],
   "source": [
    "def f_linha(x):\n",
    "    return 2*x + np.exp(x)*(x+1)"
   ]
  },
  {
   "cell_type": "markdown",
   "metadata": {},
   "source": [
    "Assim, podemos definir e executar o algoritmo de Newton, tomando $x_0 = -2$:"
   ]
  },
  {
   "cell_type": "code",
   "execution_count": 4,
   "metadata": {},
   "outputs": [
    {
     "name": "stdout",
     "output_type": "stream",
     "text": [
      "Iteração 0\n",
      "   x_0 = -2\n",
      "   |f(x_0)| = 3.7293294335267744\n",
      "Iteração 1\n",
      "   x_1 = -1.098179669096158\n",
      "   |f(x_1)| = 0.8397802969838689\n",
      "Iteração 2\n",
      "   x_2 = -0.7214445401322083\n",
      "   |f(x_2)| = 0.1698243724016592\n",
      "Iteração 3\n",
      "   x_3 = -0.5915594748640884\n",
      "   |f(x_3)| = 0.02253603549514771\n",
      "------------------------------\n",
      "Precisou de 4 iterações.\n",
      "Por fim, tivemos x_4=-0.5680123746281043 e |f(x_4)|=0.0007734995870781192.\n"
     ]
    }
   ],
   "source": [
    "def algoritmo_newton(f, f_linha, x_0, eps, verbose=True):\n",
    "    k = 0\n",
    "    x_k = x_0\n",
    "\n",
    "    while abs(f(x_k)) > eps:\n",
    "        if verbose:\n",
    "            print(f\"Iteração {k}\")\n",
    "            print(f\"   x_{k} = {x_k}\")\n",
    "            print(f\"   |f(x_{k})| = {abs(f(x_k))}\")\n",
    "\n",
    "        if f_linha(x_k) != 0:\n",
    "            x_k = x_k - f(x_k)/f_linha(x_k)\n",
    "            k += 1\n",
    "\n",
    "        else:\n",
    "            if verbose:\n",
    "                print(f\"   f'(x_{k}) = 0.\")\n",
    "                print(f\"   Tente novamente com outro x_0.\")\n",
    "\n",
    "    if verbose:\n",
    "        print(30*\"-\")\n",
    "        print(f\"Precisou de {k} iterações.\")\n",
    "        print(f\"Por fim, tivemos x_{k}={x_k} e |f(x_{k})|={abs(f(x_k))}.\")\n",
    "\n",
    "    return k, x_k\n",
    "\n",
    "x_0 = -2\n",
    "k_newton, x_k_newton = algoritmo_newton(f, f_linha, x_0, eps)"
   ]
  },
  {
   "cell_type": "markdown",
   "metadata": {},
   "source": [
    "Por fim, definimos e executamos o algoritmo da secante, usando $x_0 = -2$ e $x_1 = 2$:"
   ]
  },
  {
   "cell_type": "code",
   "execution_count": 5,
   "metadata": {},
   "outputs": [
    {
     "name": "stdout",
     "output_type": "stream",
     "text": [
      "Iteração 1:\n",
      "   x_1 = 2\n",
      "   x_0 = -2\n",
      "   |f(x_1)| = 18.7781121978613\n",
      "Iteração 2:\n",
      "   x_2 = -2.991264075487953\n",
      "   x_1 = 2\n",
      "   |f(x_2)| = 8.797427792287113\n",
      "Iteração 3:\n",
      "   x_3 = -7.3907905520308015\n",
      "   x_2 = -2.991264075487953\n",
      "   |f(x_3)| = 54.61922554570603\n",
      "Iteração 4:\n",
      "   x_4 = -2.1465893050670743\n",
      "   x_3 = -7.3907905520308015\n",
      "   |f(x_4)| = 4.356947718727471\n",
      "Iteração 5:\n",
      "   x_5 = -1.6919996675229876\n",
      "   x_4 = -2.1465893050670743\n",
      "   |f(x_5)| = 2.5512795880046166\n",
      "Iteração 6:\n",
      "   x_6 = -1.0496971073507846\n",
      "   x_5 = -1.6919996675229876\n",
      "   |f(x_6)| = 0.7344240961881779\n",
      "Iteração 7:\n",
      "   x_7 = -0.7900603451764805\n",
      "   x_6 = -1.0496971073507846\n",
      "   |f(x_7)| = 0.2656522104048658\n",
      "Iteração 8:\n",
      "   x_8 = -0.6429246447094759\n",
      "   x_7 = -0.7900603451764805\n",
      "   |f(x_8)| = 0.07533283767472232\n",
      "Iteração 9:\n",
      "   x_9 = -0.5846849096765436\n",
      "   x_8 = -0.6429246447094759\n",
      "   |f(x_9)| = 0.01602240212903744\n",
      "Iteração 10:\n",
      "   x_10 = -0.5689517516580451\n",
      "   x_9 = -0.5846849096765436\n",
      "   |f(x_10)| = 0.0016119490048962515\n",
      "------------------------------\n",
      "Precisou de 11 iterações.\n",
      "Por fim, tivemos x_11=-0.5671918452766623 e |f(x_11)|=4.315862877918297e-05.\n"
     ]
    }
   ],
   "source": [
    "def algoritmo_secante(f, x_0, x_1, eps, verbose=True):\n",
    "    k = 1\n",
    "    x_k = x_1\n",
    "    x_k1 = x_0\n",
    "\n",
    "    while abs(f(x_k)) > eps:\n",
    "        if verbose:\n",
    "            print(f\"Iteração {k}:\")\n",
    "            print(f\"   x_{k} = {x_k}\")\n",
    "            print(f\"   x_{k-1} = {x_k1}\")\n",
    "            print(f\"   |f(x_{k})| = {abs(f(x_k))}\")\n",
    "\n",
    "        x_novo = x_k - f(x_k)*(x_k-x_k1)/(f(x_k)-f(x_k1))\n",
    "        x_k1 = x_k\n",
    "        x_k = x_novo\n",
    "\n",
    "        k += 1\n",
    "\n",
    "    if verbose:\n",
    "        print(30*\"-\")\n",
    "        print(f\"Precisou de {k} iterações.\")\n",
    "        print(f\"Por fim, tivemos x_{k}={x_k} e |f(x_{k})|={abs(f(x_k))}.\")\n",
    "\n",
    "    return k, x_k\n",
    "        \n",
    "x_0 = -2\n",
    "x_1 = 2\n",
    "k_secante, x_k_secante = algoritmo_secante(f, x_0, x_1, eps)"
   ]
  },
  {
   "cell_type": "code",
   "execution_count": 6,
   "metadata": {},
   "outputs": [
    {
     "name": "stdout",
     "output_type": "stream",
     "text": [
      "Resultados obtidos com cada método:\n",
      "\n",
      "Método da Bisseção: 9 iterações, x_9 = -0.5673828125\n",
      "Algoritmo de Newton: 4 iterações, x_4 = -0.5680123746281043\n",
      "Algoritmo de Newton: 11 iterações, x_11 = -0.5671918452766623\n"
     ]
    }
   ],
   "source": [
    "print(\"Resultados obtidos com cada método:\\n\")\n",
    "print(f\"Método da Bisseção: {k_bissecao} iterações, x_{k_bissecao} = {x_k_bissecao}\")\n",
    "print(f\"Algoritmo de Newton: {k_newton} iterações, x_{k_newton} = {x_k_newton}\")\n",
    "print(f\"Algoritmo de Newton: {k_secante} iterações, x_{k_secante} = {x_k_secante}\")"
   ]
  },
  {
   "cell_type": "markdown",
   "metadata": {},
   "source": [
    "**c. Verifique o erro relativo das três estimativas para a raiz.**"
   ]
  },
  {
   "cell_type": "markdown",
   "metadata": {},
   "source": [
    "O erro relativo é definido como $\\frac{|\\hat{x}-x|}{x}$, sendo $\\hat{x}$ a estimativa da solução e $x$ a solução verdadeira. Definimos a função para calcular o erro relativo."
   ]
  },
  {
   "cell_type": "code",
   "execution_count": 7,
   "metadata": {},
   "outputs": [],
   "source": [
    "def erro_relativo(x_estimado, x_real):\n",
    "    return abs(x_estimado - x_real)/x_real"
   ]
  },
  {
   "cell_type": "markdown",
   "metadata": {},
   "source": [
    "Plotando a função entre $-1$ e $1$ juntamente com o eixo $x$, percebemos que $f(x)$ possui duas raízes, sendo uma igual a $0$ (verificamos antes que $f(0)=0$) e a outra sendo próxima de $-0.56$:"
   ]
  },
  {
   "cell_type": "code",
   "execution_count": 8,
   "metadata": {},
   "outputs": [
    {
     "data": {
      "image/png": "[encoded data removed]",
      "text/plain": [
       "<Figure size 432x288 with 1 Axes>"
      ]
     },
     "metadata": {
      "needs_background": "light"
     },
     "output_type": "display_data"
    }
   ],
   "source": [
    "import matplotlib.pyplot as plt\n",
    "\n",
    "x = np.linspace(-1, 1, 100)\n",
    "y = f(x)\n",
    "\n",
    "plt.plot(x, np.zeros(100), color='black', label='Eixo $x = 0$')\n",
    "plt.plot(x, y, label='$f(x)$')\n",
    "plt.scatter([0, -0.56], [f(0), f(-0.56)], zorder=3, color='red', label='Raízes')\n",
    "\n",
    "plt.legend()\n",
    "plt.xlabel('$x$')\n",
    "plt.ylabel('$f(x)$')\n",
    "plt.title('$f(x) = x$ exp$(x)+x^2$')\n",
    "plt.show()"
   ]
  },
  {
   "cell_type": "markdown",
   "metadata": {},
   "source": [
    "Dadas as soluções encontradas pelos métodos avaliados, parece que a solução real que estão aproximando é a solução que está próxima de $-0.56$. Entretanto, temos que $-0.56$ não é a raiz, pois:"
   ]
  },
  {
   "cell_type": "code",
   "execution_count": 9,
   "metadata": {},
   "outputs": [
    {
     "name": "stdout",
     "output_type": "stream",
     "text": [
      "f(-0.56) = -0.006277075755336314 != 0\n"
     ]
    }
   ],
   "source": [
    "print(f\"f({-0.56}) = {f(-0.56)} != 0\")"
   ]
  },
  {
   "cell_type": "markdown",
   "metadata": {},
   "source": [
    "Portanto, precisamos determinar qual a solução real para poder calcular o erro de aproximação dos métodos.\n",
    "\n",
    "Para isso, vou executar o algoritmo de Newton com um $\\epsilon$ bem pequeno ($\\epsilon = \\text{exp}(-100)$), de forma a encontrar a solução (se tiver sorte), ou então uma melhor aproximação dela."
   ]
  },
  {
   "cell_type": "code",
   "execution_count": 10,
   "metadata": {},
   "outputs": [
    {
     "name": "stdout",
     "output_type": "stream",
     "text": [
      "Solução encontrada: -0.5671432904097838\n",
      "f(-0.5671432904097838) = 0.0\n"
     ]
    }
   ],
   "source": [
    "_, x_real = algoritmo_newton(f, f_linha, x_0, 1e-100, verbose=False)\n",
    "print(f\"Solução encontrada: {x_real}\")\n",
    "print(f\"f({x_real}) = {f(x_real)}\")"
   ]
  },
  {
   "cell_type": "markdown",
   "metadata": {},
   "source": [
    "Boa! Agora podemos encontrar o erro relativo de cada método:"
   ]
  },
  {
   "cell_type": "code",
   "execution_count": 11,
   "metadata": {},
   "outputs": [
    {
     "name": "stdout",
     "output_type": "stream",
     "text": [
      "Erro relativo de cada método:\n",
      "\n",
      "Método da Bisseção:\n",
      "   Solução: -0.5673828125\n",
      "   Erro relativo: -0.0004223308188008282\n",
      "\n",
      "Algoritmo de Newton:\n",
      "   Solução: -0.5680123746281043\n",
      "   Erro relativo: -0.001532389138717464\n",
      "\n",
      "Algoritmo da Secante:\n",
      "   Solução: -0.5671918452766623\n",
      "   Erro relativo: -8.561304999907347e-05\n",
      "\n"
     ]
    }
   ],
   "source": [
    "print(\"Erro relativo de cada método:\\n\")\n",
    "\n",
    "print(f'Método da Bisseção:')\n",
    "print(f'   Solução: {x_k_bissecao}')\n",
    "print(f'   Erro relativo: {erro_relativo(x_k_bissecao, x_real)}\\n')\n",
    "\n",
    "print(f'Algoritmo de Newton:')\n",
    "print(f'   Solução: {x_k_newton}')\n",
    "print(f'   Erro relativo: {erro_relativo(x_k_newton, x_real)}\\n')\n",
    "\n",
    "print(f'Algoritmo da Secante:')\n",
    "print(f'   Solução: {x_k_secante}')\n",
    "print(f'   Erro relativo: {erro_relativo(x_k_secante, x_real)}\\n')"
   ]
  }
 ],
 "metadata": {
  "kernelspec": {
   "display_name": "Python 3.9.7 ('base')",
   "language": "python",
   "name": "python3"
  },
  "language_info": {
   "codemirror_mode": {
    "name": "ipython",
    "version": 3
   },
   "file_extension": ".py",
   "mimetype": "text/x-python",
   "name": "python",
   "nbconvert_exporter": "python",
   "pygments_lexer": "ipython3",
   "version": "3.8.8"
  },
  "orig_nbformat": 4,
  "vscode": {
   "interpreter": {
    "hash": "3b759962513640ddde7e75396c9158f6cf5fb1597c29ea54b01300c12e175792"
   }
  }
 },
 "nbformat": 4,
 "nbformat_minor": 2
}
